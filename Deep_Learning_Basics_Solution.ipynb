{
  "nbformat": 4,
  "nbformat_minor": 0,
  "metadata": {
    "colab": {
      "provenance": [],
      "include_colab_link": true
    },
    "kernelspec": {
      "name": "python3",
      "display_name": "Python 3"
    },
    "language_info": {
      "name": "python"
    }
  },
  "cells": [
    {
      "cell_type": "markdown",
      "metadata": {
        "id": "view-in-github",
        "colab_type": "text"
      },
      "source": [
        "<a href=\"https://colab.research.google.com/github/gapac/ML_AI_examples/blob/main/Deep_Learning_Basics_Solution.ipynb\" target=\"_parent\"><img src=\"https://colab.research.google.com/assets/colab-badge.svg\" alt=\"Open In Colab\"/></a>"
      ]
    },
    {
      "cell_type": "markdown",
      "source": [
        "# Deep Learning Workshop: MNIST Classification with MLP\n",
        "\n",
        "Welcome to this deep learning workshop! In this session, we will explore the basics of deep learning by working with the MNIST dataset and building a simple Multi-Layer Perceptron (MLP) model to classify handwritten digits.\n",
        "\n",
        "## Objectives\n",
        "\n",
        "By the end of this workshop, you will:\n",
        "- Understand the structure and format of the MNIST dataset.\n",
        "- Learn how to prepare data for training a neural network.\n",
        "- Build and train a simple MLP model from scratch.\n",
        "- Evaluate the model's performance.\n",
        "\n",
        "## Overview\n",
        "\n",
        "The MNIST dataset is a well-known benchmark in the field of machine learning, consisting of 60,000 training images and 10,000 testing images of handwritten digits from 0 to 9. Each image is 28x28 pixels, making it a perfect starting point for beginners.\n",
        "\n",
        "In this notebook, we will:\n",
        "1. Load and visualize the MNIST dataset.\n",
        "2. Preprocess the data to prepare it for training.\n",
        "3. Define a simple MLP model using Keras.\n",
        "4. Train the model and monitor its performance.\n",
        "5. Evaluate the model on the test set and visualize the results.\n",
        "\n",
        "Let's get started and dive into the world of deep learning!\n",
        "\n",
        "----------------\n",
        "Credit:\n",
        "- this notebook contains code samples from https://github.com/mnielsen/neural-networks-and-deep-learning"
      ],
      "metadata": {
        "id": "pnu7OlK9P9kl"
      }
    },
    {
      "cell_type": "code",
      "execution_count": null,
      "metadata": {
        "id": "MNJUnj4C4lRo"
      },
      "outputs": [],
      "source": [
        "import numpy as np\n",
        "import matplotlib.pyplot as plt\n",
        "from keras.datasets import mnist\n",
        "\n",
        "def display_mnist_images(images, labels, preds=None):\n",
        "    \"\"\"\n",
        "    Display a 2x8 grid of MNIST images with their labels as titles.\n",
        "    If predicted labels are provided, they will be added to title as well.\n",
        "\n",
        "    Parameters:\n",
        "    images (numpy.ndarray): A numpy array of shape (N, 28, 28) where N is the number of images.\n",
        "    labels (list): A list of labels corresponding to the images.\n",
        "    \"\"\"\n",
        "\n",
        "    fig, axes = plt.subplots(2, 8, figsize=(16, 4))\n",
        "    fig.subplots_adjust(hspace=0.5)\n",
        "    axes = axes.flatten()\n",
        "\n",
        "    for enum, ax in enumerate(axes):\n",
        "      ax.imshow(images[enum], cmap='gray')\n",
        "      title = f'GT: {labels[enum]}'\n",
        "      if preds is not None:\n",
        "        title += f', pred: {preds[enum]}'\n",
        "      ax.set_title(title)\n",
        "      ax.axis('off')\n",
        "\n",
        "    plt.show()\n",
        "\n",
        "def one_hot_encode(y_vec):\n",
        "  encoded = np.zeros((y_vec.size, y_vec.max() + 1))\n",
        "  encoded[np.arange(y_vec.size), y_vec] = 1\n",
        "  return encoded"
      ]
    },
    {
      "cell_type": "markdown",
      "source": [
        "# DATA\n",
        "Download MNIST dataset and display training and test set sizes"
      ],
      "metadata": {
        "id": "PxVLhJ1hEoll"
      }
    },
    {
      "cell_type": "code",
      "source": [
        "(train_X, train_y), (test_X, test_y) = mnist.load_data()\n",
        "train_X.shape, train_y.shape, test_X.shape, test_y.shape"
      ],
      "metadata": {
        "colab": {
          "base_uri": "https://localhost:8080/"
        },
        "id": "pA-OUxLuCmuM",
        "outputId": "91a52c71-6cb4-46c0-f69c-2fc1500982ae"
      },
      "execution_count": null,
      "outputs": [
        {
          "output_type": "execute_result",
          "data": {
            "text/plain": [
              "((60000, 28, 28), (60000,), (10000, 28, 28), (10000,))"
            ]
          },
          "metadata": {},
          "execution_count": 35
        }
      ]
    },
    {
      "cell_type": "markdown",
      "source": [
        "Standardize images to zero mean and unit variance"
      ],
      "metadata": {
        "id": "Q1vh1SLwFRdi"
      }
    },
    {
      "cell_type": "code",
      "source": [
        "train_X = train_X.astype(float)\n",
        "test_X = test_X.astype(float)\n",
        "train_stat = train_X.reshape(train_X.shape[0], -1)\n",
        "x_mean, x_std = train_stat.mean(), train_stat.std()\n",
        "train_X -= x_mean\n",
        "train_X /= x_std\n",
        "test_X -= x_mean\n",
        "test_X /= x_std"
      ],
      "metadata": {
        "id": "a2bPqFp_Cw5H"
      },
      "execution_count": null,
      "outputs": []
    },
    {
      "cell_type": "markdown",
      "source": [
        "Use `display_mnist_images` function to show a couple of images"
      ],
      "metadata": {
        "id": "WyMjzAsFFZyz"
      }
    },
    {
      "cell_type": "code",
      "source": [
        "display_mnist_images(train_X[:16], train_y[:16])"
      ],
      "metadata": {
        "colab": {
          "base_uri": "https://localhost:8080/",
          "height": 367
        },
        "id": "pVR4uyDMDbCd",
        "outputId": "3bde7133-7c5e-48ca-fd0f-0baee384ed6a"
      },
      "execution_count": null,
      "outputs": [
        {
          "output_type": "display_data",
          "data": {
            "text/plain": [
              "<Figure size 1600x400 with 16 Axes>"
            ],
            "image/png": "[encoded data removed]"
          },
          "metadata": {}
        }
      ]
    },
    {
      "cell_type": "markdown",
      "source": [
        "Prepare ground truth data in one-hot encoded format"
      ],
      "metadata": {
        "id": "gungflnxJGWC"
      }
    },
    {
      "cell_type": "code",
      "source": [
        "train_y_onehot = one_hot_encode(train_y)\n",
        "train_y[:3], train_y_onehot[:3]"
      ],
      "metadata": {
        "id": "2jzTxCaLJF4k"
      },
      "execution_count": null,
      "outputs": []
    },
    {
      "cell_type": "markdown",
      "source": [
        "# NETWORK\n",
        "Define the hyperparameters"
      ],
      "metadata": {
        "id": "sVOTD9VsFtiX"
      }
    },
    {
      "cell_type": "code",
      "source": [
        "# number of neurons in each layer\n",
        "# note: first one is the input layer which should match the dimension of the input data, the last one is the output layer that should match the number of classes\n",
        "sizes = [784, 128, 32, 10]\n",
        "# size of batches used for training the network\n",
        "batch_size = 20\n",
        "# number of training epochs\n",
        "epochs = 10\n",
        "# learning rate constant\n",
        "eta = 1e-1"
      ],
      "metadata": {
        "colab": {
          "base_uri": "https://localhost:8080/"
        },
        "id": "WeucFtQ84zLO",
        "outputId": "bcbfda55-c801-435d-8326-95a1660d2846"
      },
      "execution_count": null,
      "outputs": [
        {
          "output_type": "execute_result",
          "data": {
            "text/plain": [
              "([(784, 128), (128, 32), (32, 10)], [(128,), (32,), (10,)])"
            ]
          },
          "metadata": {},
          "execution_count": 2
        }
      ]
    },
    {
      "cell_type": "markdown",
      "source": [
        "Initialize the weights and biases"
      ],
      "metadata": {
        "id": "4wGpsEtvGcJX"
      }
    },
    {
      "cell_type": "code",
      "source": [
        "num_layers = len(sizes)\n",
        "weights = [np.random.randn(sizes[i], sizes[i+1]) for i in range(num_layers-1)]\n",
        "biases = [np.random.randn(sizes[i+1]) for i in range(num_layers-1)]\n",
        "[a.shape for a in weights], [a.shape for a in biases]"
      ],
      "metadata": {
        "id": "Iy3mL-QnFz5t"
      },
      "execution_count": null,
      "outputs": []
    },
    {
      "cell_type": "markdown",
      "source": [
        "Define activation and loss functions and their derivatives"
      ],
      "metadata": {
        "id": "m-hx8p4gKoa5"
      }
    },
    {
      "cell_type": "code",
      "source": [
        "def activation_fcn(z):\n",
        "    \"\"\"The sigmoid function.\"\"\"\n",
        "    return 1.0 / (1.0 + np.exp(-z))\n",
        "\n",
        "def activation_fcn_derivative(z):\n",
        "    \"\"\"Derivative of the sigmoid function.\"\"\"\n",
        "    return activation_fcn(z) * (1 - activation_fcn(z))\n",
        "\n",
        "def loss_fcn(a, y):\n",
        "  \"\"\"The cross entropy loss function.\"\"\"\n",
        "  return np.mean(np.nan_to_num(-y * np.log(a) - (1 - y) * np.log(1 - a)))\n",
        "\n",
        "def loss_fcn_derivative(a, y):\n",
        "  \"\"\"Derivative of the cross entropy loss function.\"\"\"\n",
        "  return (a - y)"
      ],
      "metadata": {
        "id": "7iA80ZA-9x0B"
      },
      "execution_count": null,
      "outputs": []
    },
    {
      "cell_type": "markdown",
      "source": [
        "Write training protocol"
      ],
      "metadata": {
        "id": "2idUyJe7KzgY"
      }
    },
    {
      "cell_type": "code",
      "source": [
        "def train_step(x, y):\n",
        "  global weights\n",
        "  global biases\n",
        "\n",
        "  # flatten from (batch_size, 28, 28) -> (batch_size, 784)\n",
        "  activation = x.reshape(x.shape[0], -1)\n",
        "  # initialize list of layer scores (weighted inputs) 'z'\n",
        "  z_s = []\n",
        "  # initialize list of layer activations 'a'\n",
        "  a_s = [activation]\n",
        "\n",
        "  # forward pass\n",
        "  for enum, (w, b) in enumerate(zip(weights, biases)):\n",
        "    z = activation @ w + b\n",
        "    activation = activation_fcn(z)\n",
        "    z_s.append(z)\n",
        "    a_s.append(activation)\n",
        "\n",
        "  ## calculate derivatives\n",
        "  # initializations\n",
        "  nabla_w = [None]*(num_layers-1)\n",
        "  nabla_b = [None]*(num_layers-1)\n",
        "\n",
        "  # calculate derivative to output layer\n",
        "  loss = loss_fcn(a_s[-1], y)\n",
        "  delta = loss_fcn_derivative(a_s[-1], y) * activation_fcn_derivative(z_s[-1])\n",
        "  nabla_w[-1] = a_s[-2].T @ delta # use penultimate activation\n",
        "  nabla_b[-1] = delta.sum(axis=0)\n",
        "\n",
        "  # calculate derivative to hidden layers\n",
        "  for l in range(2, num_layers):\n",
        "    delta =  delta @ weights[-l+1].T * activation_fcn_derivative(z_s[-l])\n",
        "    nabla_w[-l] = a_s[-l-1].T @ delta\n",
        "    nabla_b[-l] = delta.sum(axis=0)\n",
        "  return loss, nabla_w, nabla_b\n",
        "\n",
        "\n",
        "def train_epoch(train_data, train_gt):\n",
        "  global weights\n",
        "  global biases\n",
        "  N = train_data.shape[0]\n",
        "  batches_data = [train_data[i:i + batch_size] for i in range(0, N, batch_size)]\n",
        "  batches_gt = [train_gt[i:i + batch_size] for i in range(0, N, batch_size)]\n",
        "  losses = []\n",
        "\n",
        "  for batch_x, batch_y in zip(batches_data, batches_gt):\n",
        "    # perform training step: calculate gradients\n",
        "    loss, nabla_w, nabla_b = train_step(batch_x, batch_y)\n",
        "    losses.append(loss)\n",
        "\n",
        "    # update weights and biases with the calculated gradients\n",
        "    weights = [w - (eta / batch_size) * nw for w, nw in zip(weights, nabla_w)]\n",
        "    biases = [b - (eta / batch_size) * nb for b, nb in zip(biases, nabla_b)]\n",
        "  return np.mean(losses)"
      ],
      "metadata": {
        "id": "CxvYTiG-_Qud"
      },
      "execution_count": null,
      "outputs": []
    },
    {
      "cell_type": "markdown",
      "source": [
        "Write inference protocol"
      ],
      "metadata": {
        "id": "WfY2-xJtK9_K"
      }
    },
    {
      "cell_type": "code",
      "source": [
        "def inference(test_data):\n",
        "  # flatten from (batch_size, 28, 28) -> (batch_size, 784)\n",
        "  activation = test_data.reshape(test_data.shape[0], -1)\n",
        "\n",
        "  # forward pass\n",
        "  for enum, (w, b) in enumerate(zip(weights, biases)):\n",
        "    z = activation @ w + b\n",
        "    activation = activation_fcn(z)\n",
        "\n",
        "  # get prediction from the final activation\n",
        "  predictions = np.argmax(activation, axis=1)\n",
        "  return predictions\n",
        "\n",
        "def accuracy(preds, gts):\n",
        "  return 100 * sum([int(x == y) for x, y in zip(preds, gts)]) / len(gts)"
      ],
      "metadata": {
        "id": "ANx3BqVXK9hW"
      },
      "execution_count": null,
      "outputs": []
    },
    {
      "cell_type": "markdown",
      "source": [
        "# EXPERIMENTS\n",
        "Run training"
      ],
      "metadata": {
        "id": "k4CFcorGPweT"
      }
    },
    {
      "cell_type": "code",
      "source": [
        "epoch_losses = []\n",
        "for epoch in range(epochs):\n",
        "  l = train_epoch(train_X, train_y_onehot)\n",
        "  epoch_losses.append(l)"
      ],
      "metadata": {
        "id": "RS2JddpCl6nT"
      },
      "execution_count": null,
      "outputs": []
    },
    {
      "cell_type": "code",
      "source": [
        "plt.figure()\n",
        "plt.plot(epoch_losses, marker='*')\n",
        "plt.xlabel('Epoch')\n",
        "plt.ylabel('Loss')\n",
        "plt.grid()"
      ],
      "metadata": {
        "colab": {
          "base_uri": "https://localhost:8080/",
          "height": 449
        },
        "id": "OmgYOOoX0SAV",
        "outputId": "928a868b-6c11-4b21-8cb3-7097d6551629"
      },
      "execution_count": null,
      "outputs": [
        {
          "output_type": "display_data",
          "data": {
            "text/plain": [
              "<Figure size 640x480 with 1 Axes>"
            ],
            "image/png": "[encoded data removed]"
          },
          "metadata": {}
        }
      ]
    },
    {
      "cell_type": "markdown",
      "source": [
        "Run inference"
      ],
      "metadata": {
        "id": "Sz6g26Q_PzME"
      }
    },
    {
      "cell_type": "code",
      "source": [
        "test_pred = inference(test_X)\n",
        "test_pred.shape, test_y.shape"
      ],
      "metadata": {
        "colab": {
          "base_uri": "https://localhost:8080/"
        },
        "id": "XNwwSl-MpJkX",
        "outputId": "005abd4f-cd3d-4317-81b9-a4d8beb40e6f"
      },
      "execution_count": null,
      "outputs": [
        {
          "output_type": "execute_result",
          "data": {
            "text/plain": [
              "((10000,), (10000,))"
            ]
          },
          "metadata": {},
          "execution_count": 18
        }
      ]
    },
    {
      "cell_type": "markdown",
      "source": [
        "Calculate accuracy"
      ],
      "metadata": {
        "id": "pXyNj3uaP1Xh"
      }
    },
    {
      "cell_type": "code",
      "source": [
        "test_acc = accuracy(test_pred, test_y)\n",
        "print(f'Test set accuracy: {test_acc:.2f} %')"
      ],
      "metadata": {
        "colab": {
          "base_uri": "https://localhost:8080/"
        },
        "id": "LnrdxgKQpf5Y",
        "outputId": "5714bd69-4f70-476c-9ee9-67f34d68d518"
      },
      "execution_count": null,
      "outputs": [
        {
          "output_type": "stream",
          "name": "stdout",
          "text": [
            "Test set accuracy: 81.39 %\n"
          ]
        }
      ]
    },
    {
      "cell_type": "markdown",
      "source": [
        "Visualize results"
      ],
      "metadata": {
        "id": "zuagQnWoP3KB"
      }
    },
    {
      "cell_type": "code",
      "source": [
        "display_mnist_images(test_X[:16], test_y[:16], test_pred[:16])"
      ],
      "metadata": {
        "id": "ZvH7Vzuav0VQ",
        "colab": {
          "base_uri": "https://localhost:8080/",
          "height": 367
        },
        "outputId": "af9029da-0a5a-40a7-dee6-a7e2b1123f3c"
      },
      "execution_count": null,
      "outputs": [
        {
          "output_type": "display_data",
          "data": {
            "text/plain": [
              "<Figure size 1600x400 with 16 Axes>"
            ],
            "image/png": "[encoded data removed]"
          },
          "metadata": {}
        }
      ]
    }
  ]
}